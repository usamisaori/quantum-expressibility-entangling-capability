{
 "cells": [
  {
   "cell_type": "code",
   "execution_count": 2,
   "id": "df8247a7",
   "metadata": {},
   "outputs": [],
   "source": [
    "import numpy as np"
   ]
  },
  {
   "cell_type": "code",
   "execution_count": 4,
   "id": "a134c29a",
   "metadata": {},
   "outputs": [],
   "source": [
    "from qiskit.quantum_info import state_fidelity, Statevector\n",
    "\n",
    "def getStatevector(circuit):\n",
    "    return Statevector(circuit).data"
   ]
  },
  {
   "cell_type": "code",
   "execution_count": 5,
   "id": "ef51625b",
   "metadata": {},
   "outputs": [],
   "source": [
    "import warnings\n",
    "warnings.filterwarnings('ignore')"
   ]
  },
  {
   "cell_type": "markdown",
   "id": "b8b36e34",
   "metadata": {},
   "source": [
    "# 1. Measure Expressibililty"
   ]
  },
  {
   "cell_type": "markdown",
   "id": "458a3fcd",
   "metadata": {},
   "source": [
    "## 1.1 Tool Functions"
   ]
  },
  {
   "cell_type": "code",
   "execution_count": 6,
   "id": "cf7e950f",
   "metadata": {},
   "outputs": [],
   "source": [
    "def P_haar(N, F):\n",
    "    if F == 1:\n",
    "        return 0\n",
    "    else:\n",
    "        return (N - 1) * ((1 - F) ** (N - 2))"
   ]
  },
  {
   "cell_type": "code",
   "execution_count": 7,
   "id": "837ede7f",
   "metadata": {},
   "outputs": [],
   "source": [
    "def KL(P, Q):\n",
    "    epsilon = 1e-8\n",
    "    kl_divergence = 0.0\n",
    "    \n",
    "    for p, q in zip(P, Q):\n",
    "        kl_divergence += p * np.log( (p + epsilon) / (q + epsilon) )\n",
    "    \n",
    "    return abs(kl_divergence)"
   ]
  },
  {
   "cell_type": "markdown",
   "id": "be5d9a0b",
   "metadata": {},
   "source": [
    "## 1.2 Expressibility calculation algorithm"
   ]
  },
  {
   "cell_type": "code",
   "execution_count": 8,
   "id": "2a87df45",
   "metadata": {},
   "outputs": [],
   "source": [
    "def expressibility(qubits, sampler, *, bins=100, epoch=3000, layer=1, encode=False, return_detail=False):\n",
    "    unit = 1 / bins\n",
    "    limits = []\n",
    "    probabilities = np.array([0] * bins)\n",
    "    for i in range(1, bins + 1):\n",
    "        limits.append(unit * i)\n",
    "\n",
    "    for i in range(epoch):\n",
    "        circuit_1 = sampler(layer=layer, qubits=qubits)\n",
    "        circuit_2 = sampler(layer=layer, qubits=qubits)\n",
    "        f = state_fidelity(\n",
    "            getStatevector(circuit_1),\n",
    "            getStatevector(circuit_2)\n",
    "        )\n",
    "\n",
    "        for j in range(bins):\n",
    "            if f <= limits[j]:\n",
    "                probabilities[j] += 1\n",
    "                break\n",
    "\n",
    "    pHaar_vqc = [ P_haar(2 ** qubits, f - (unit/2)) / bins for f in limits]\n",
    "    probabilities = [ p / epoch for p in probabilities ]\n",
    "    \n",
    "    if return_detail:\n",
    "        return pHaar_vqc, probabilities\n",
    "    else:\n",
    "        return KL(probabilities, pHaar_vqc)"
   ]
  },
  {
   "cell_type": "code",
   "execution_count": null,
   "id": "56a56bc6",
   "metadata": {},
   "outputs": [],
   "source": []
  }
 ],
 "metadata": {
  "kernelspec": {
   "display_name": "Python 3 (ipykernel)",
   "language": "python",
   "name": "python3"
  },
  "language_info": {
   "codemirror_mode": {
    "name": "ipython",
    "version": 3
   },
   "file_extension": ".py",
   "mimetype": "text/x-python",
   "name": "python",
   "nbconvert_exporter": "python",
   "pygments_lexer": "ipython3",
   "version": "3.9.13"
  }
 },
 "nbformat": 4,
 "nbformat_minor": 5
}
