{
 "cells": [
  {
   "cell_type": "code",
   "execution_count": 1,
   "id": "34b18906",
   "metadata": {},
   "outputs": [],
   "source": [
    "import numpy as np"
   ]
  },
  {
   "cell_type": "code",
   "execution_count": 2,
   "id": "da39b8db",
   "metadata": {},
   "outputs": [],
   "source": [
    "from qiskit.quantum_info import partial_trace\n",
    "from qiskit.quantum_info import DensityMatrix\n",
    "\n",
    "def getDensityMatrix(circuit):\n",
    "    return DensityMatrix(circuit).data"
   ]
  },
  {
   "cell_type": "code",
   "execution_count": 5,
   "id": "ef51625b",
   "metadata": {},
   "outputs": [],
   "source": [
    "import warnings\n",
    "warnings.filterwarnings('ignore')"
   ]
  },
  {
   "cell_type": "markdown",
   "id": "b8b36e34",
   "metadata": {},
   "source": [
    "# 1. Measure Entanglement"
   ]
  },
  {
   "cell_type": "markdown",
   "id": "1b8fe763",
   "metadata": {},
   "source": [
    "## 1.1 Tool functions"
   ]
  },
  {
   "cell_type": "code",
   "execution_count": 3,
   "id": "d66bed83",
   "metadata": {},
   "outputs": [],
   "source": [
    "def Q(circuit):\n",
    "    matrix = getDensityMatrix(circuit)\n",
    "    n = len(circuit.qubits)\n",
    "    \n",
    "    trs = []\n",
    "    indexes = list(range(n))\n",
    "    for i in range(n):\n",
    "        sub_indexes = indexes.copy()\n",
    "        sub_indexes.remove(i)\n",
    "        \n",
    "        rou = partial_trace(matrix, sub_indexes)\n",
    "        tr = np.abs(np.trace(rou.data @ rou.data))\n",
    "        trs.append(tr)\n",
    "        \n",
    "    tr = sum(trs)\n",
    "    return 2 * (1 - tr / n)"
   ]
  },
  {
   "cell_type": "markdown",
   "id": "a9c582e1",
   "metadata": {},
   "source": [
    "## 1.2 Measure algorithm"
   ]
  },
  {
   "cell_type": "code",
   "execution_count": 4,
   "id": "21c6dc32",
   "metadata": {},
   "outputs": [],
   "source": [
    "def Ent(sampler, *, epoch=3000, layer=1):\n",
    "    ent = 0\n",
    "    for i in range(epoch):\n",
    "        ent += Q(sampler(layer=layer))\n",
    "    \n",
    "    return ent / epoch"
   ]
  },
  {
   "cell_type": "code",
   "execution_count": null,
   "id": "d545bfd0",
   "metadata": {},
   "outputs": [],
   "source": []
  }
 ],
 "metadata": {
  "kernelspec": {
   "display_name": "Python 3 (ipykernel)",
   "language": "python",
   "name": "python3"
  },
  "language_info": {
   "codemirror_mode": {
    "name": "ipython",
    "version": 3
   },
   "file_extension": ".py",
   "mimetype": "text/x-python",
   "name": "python",
   "nbconvert_exporter": "python",
   "pygments_lexer": "ipython3",
   "version": "3.9.13"
  }
 },
 "nbformat": 4,
 "nbformat_minor": 5
}
