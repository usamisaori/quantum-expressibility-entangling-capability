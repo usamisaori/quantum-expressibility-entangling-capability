{
 "cells": [
  {
   "cell_type": "code",
   "execution_count": 1,
   "id": "7af395ba",
   "metadata": {},
   "outputs": [],
   "source": [
    "import sys\n",
    "sys.path.append('../')"
   ]
  },
  {
   "cell_type": "code",
   "execution_count": 2,
   "id": "fa94bb14",
   "metadata": {},
   "outputs": [],
   "source": [
    "from circuits import sampleCircuitA, sampleCircuitB1, sampleCircuitB2,\\\n",
    "    sampleCircuitB3, sampleCircuitC, sampleCircuitD, sampleCircuitE,\\\n",
    "    sampleCircuitF\n",
    "from expressibility import expressibility"
   ]
  },
  {
   "cell_type": "code",
   "execution_count": 3,
   "id": "ef51625b",
   "metadata": {},
   "outputs": [],
   "source": [
    "import warnings\n",
    "warnings.filterwarnings('ignore')"
   ]
  },
  {
   "cell_type": "markdown",
   "id": "3f340fe2",
   "metadata": {},
   "source": [
    "# 1. Expressibility Experiments"
   ]
  },
  {
   "cell_type": "code",
   "execution_count": 4,
   "id": "7cc6de45",
   "metadata": {},
   "outputs": [],
   "source": [
    "labels = [\n",
    "    'Circuit A', 'Circuit B1', 'Circuit B2', 'Circuit B3',\n",
    "    'Circuit C', 'Circuit D', 'Circuit E', 'Circuit F'\n",
    "]\n",
    "\n",
    "samplers = [\n",
    "    sampleCircuitA,\n",
    "    sampleCircuitB1,\n",
    "    sampleCircuitB2,\n",
    "    sampleCircuitB3,\n",
    "    sampleCircuitC,\n",
    "    sampleCircuitD,\n",
    "    sampleCircuitE,\n",
    "    sampleCircuitF\n",
    "]"
   ]
  },
  {
   "cell_type": "code",
   "execution_count": 5,
   "id": "584c4316",
   "metadata": {},
   "outputs": [
    {
     "name": "stdout",
     "output_type": "stream",
     "text": [
      "qubtis: 4\n",
      "-------------------------\n",
      "Circuit A(layer=1): 0.3437921633796217\n",
      "Circuit B1(layer=1): 18.420680753952364\n",
      "Circuit B2(layer=1): 0.05420363971479164\n",
      "Circuit B3(layer=1): 0.040493521146067614\n",
      "Circuit C(layer=1): 0.019520453806069135\n",
      "Circuit D(layer=1): 0.00865782182926711\n",
      "Circuit E(layer=1): 0.09024018885747792\n",
      "Circuit F(layer=1): 0.08682192490776383\n",
      "\n",
      "qubtis: 4\n",
      "-------------------------\n",
      "Circuit A(layer=2): 0.013574014243022105\n",
      "Circuit B1(layer=2): 18.420680753952364\n",
      "Circuit B2(layer=2): 0.01316505185261967\n",
      "Circuit B3(layer=2): 0.014971081467646839\n",
      "Circuit C(layer=2): 0.00704116406272519\n",
      "Circuit D(layer=2): 0.011039505946821957\n",
      "Circuit E(layer=2): 0.031879981681920896\n",
      "Circuit F(layer=2): 0.01636002746310096\n",
      "\n",
      "qubtis: 4\n",
      "-------------------------\n",
      "Circuit A(layer=3): 0.008293967986491213\n",
      "Circuit B1(layer=3): 18.420680753952364\n",
      "Circuit B2(layer=3): 0.012367023648300059\n",
      "Circuit B3(layer=3): 0.00914994526306832\n",
      "Circuit C(layer=3): 0.008672745892535855\n",
      "Circuit D(layer=3): 0.008358610819677061\n",
      "Circuit E(layer=3): 0.014261144512893007\n",
      "Circuit F(layer=3): 0.008239858479595566\n",
      "\n"
     ]
    }
   ],
   "source": [
    "q = 4\n",
    "for layer in range(1, 4):\n",
    "    print(f'qubtis: {q}')\n",
    "    print('-' * 25)\n",
    "\n",
    "    for (label, sampler) in zip(labels, samplers):\n",
    "        print(f'{label}(layer={layer}): {expressibility(q, sampler, layer=layer, epoch=3000)}')\n",
    "    print()"
   ]
  },
  {
   "cell_type": "code",
   "execution_count": null,
   "id": "56a56bc6",
   "metadata": {},
   "outputs": [],
   "source": []
  }
 ],
 "metadata": {
  "kernelspec": {
   "display_name": "Python 3 (ipykernel)",
   "language": "python",
   "name": "python3"
  },
  "language_info": {
   "codemirror_mode": {
    "name": "ipython",
    "version": 3
   },
   "file_extension": ".py",
   "mimetype": "text/x-python",
   "name": "python",
   "nbconvert_exporter": "python",
   "pygments_lexer": "ipython3",
   "version": "3.9.13"
  }
 },
 "nbformat": 4,
 "nbformat_minor": 5
}
