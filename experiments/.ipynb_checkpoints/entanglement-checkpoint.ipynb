{
 "cells": [
  {
   "cell_type": "code",
   "execution_count": 1,
   "id": "bd1ebfb6",
   "metadata": {},
   "outputs": [],
   "source": [
    "import sys\n",
    "sys.path.append('../')"
   ]
  },
  {
   "cell_type": "code",
   "execution_count": 2,
   "id": "0525cad5",
   "metadata": {},
   "outputs": [],
   "source": [
    "from circuits import sampleCircuitA, sampleCircuitB1, sampleCircuitB2,\\\n",
    "    sampleCircuitB3, sampleCircuitC, sampleCircuitD, sampleCircuitE,\\\n",
    "    sampleCircuitF\n",
    "from entanglement import Ent"
   ]
  },
  {
   "cell_type": "code",
   "execution_count": 3,
   "id": "ef51625b",
   "metadata": {},
   "outputs": [],
   "source": [
    "import warnings\n",
    "warnings.filterwarnings('ignore')"
   ]
  },
  {
   "cell_type": "markdown",
   "id": "a2c3a451",
   "metadata": {},
   "source": [
    "# 1. Entanglement Experiments"
   ]
  },
  {
   "cell_type": "code",
   "execution_count": 4,
   "id": "8695f8d1",
   "metadata": {},
   "outputs": [],
   "source": [
    "labels = [\n",
    "    'Circuit A', 'Circuit B1', 'Circuit B2', 'Circuit B3',\n",
    "    'Circuit C', 'Circuit D', 'Circuit E', 'Circuit F'\n",
    "]\n",
    "\n",
    "samplers = [\n",
    "    sampleCircuitA,\n",
    "    sampleCircuitB1,\n",
    "    sampleCircuitB2,\n",
    "    sampleCircuitB3,\n",
    "    sampleCircuitC,\n",
    "    sampleCircuitD,\n",
    "    sampleCircuitE,\n",
    "    sampleCircuitF\n",
    "]"
   ]
  },
  {
   "cell_type": "code",
   "execution_count": 5,
   "id": "d68c6485",
   "metadata": {
    "scrolled": false
   },
   "outputs": [
    {
     "name": "stdout",
     "output_type": "stream",
     "text": [
      "qubtis: 4\n",
      "-------------------------\n",
      "Circuit A(layer=1): 8.667141078907055e-17\n",
      "Circuit B1(layer=1): 0.0\n",
      "Circuit B2(layer=1): 1.0000000000000002\n",
      "Circuit B3(layer=1): 0.3672177110199383\n",
      "Circuit C(layer=1): 0.5393885262728979\n",
      "Circuit D(layer=1): 0.681169040764869\n",
      "Circuit E(layer=1): 0.29502383870133103\n",
      "Circuit F(layer=1): 0.3863675281196738\n",
      "\n",
      "qubtis: 4\n",
      "-------------------------\n",
      "Circuit A(layer=2): 0.7557421426377734\n",
      "Circuit B1(layer=2): 0.0\n",
      "Circuit B2(layer=2): 0.8770984659463179\n",
      "Circuit B3(layer=2): 0.5587353149260698\n",
      "Circuit C(layer=2): 0.7290001284323238\n",
      "Circuit D(layer=2): 0.8045316564598779\n",
      "Circuit E(layer=2): 0.4666651960721076\n",
      "Circuit F(layer=2): 0.5998892186562522\n",
      "\n",
      "qubtis: 4\n",
      "-------------------------\n",
      "Circuit A(layer=3): 0.7273434431051231\n",
      "Circuit B1(layer=3): 0.0\n",
      "Circuit B2(layer=3): 0.7037441310320837\n",
      "Circuit B3(layer=3): 0.6709418631509805\n",
      "Circuit C(layer=3): 0.7917004876586057\n",
      "Circuit D(layer=3): 0.8229356241808826\n",
      "Circuit E(layer=3): 0.5594694029994196\n",
      "Circuit F(layer=3): 0.7064984284385236\n",
      "\n"
     ]
    }
   ],
   "source": [
    "q = 4\n",
    "for layer in range(1, 4):\n",
    "    print(f'qubtis: {q}')\n",
    "    print('-' * 25)\n",
    "\n",
    "    for (label, sampler) in zip(labels, samplers):\n",
    "        expr = Ent(sampler, layer=layer, epoch=3000)\n",
    "        print(f'{label}(layer={layer}): {expr}')\n",
    "    print()"
   ]
  },
  {
   "cell_type": "code",
   "execution_count": null,
   "id": "d545bfd0",
   "metadata": {},
   "outputs": [],
   "source": []
  }
 ],
 "metadata": {
  "kernelspec": {
   "display_name": "Python 3 (ipykernel)",
   "language": "python",
   "name": "python3"
  },
  "language_info": {
   "codemirror_mode": {
    "name": "ipython",
    "version": 3
   },
   "file_extension": ".py",
   "mimetype": "text/x-python",
   "name": "python",
   "nbconvert_exporter": "python",
   "pygments_lexer": "ipython3",
   "version": "3.9.13"
  }
 },
 "nbformat": 4,
 "nbformat_minor": 5
}
